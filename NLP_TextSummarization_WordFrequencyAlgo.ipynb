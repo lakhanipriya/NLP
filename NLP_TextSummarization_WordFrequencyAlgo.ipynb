{
 "cells": [
  {
   "cell_type": "code",
   "execution_count": 26,
   "id": "imposed-elder",
   "metadata": {},
   "outputs": [],
   "source": [
    "#Import required libraries\n",
    "\n",
    "from nltk.corpus import stopwords\n",
    "from nltk.stem import PorterStemmer\n",
    "from nltk.tokenize import word_tokenize, sent_tokenize"
   ]
  },
  {
   "cell_type": "code",
   "execution_count": 27,
   "id": "promising-subject",
   "metadata": {},
   "outputs": [],
   "source": [
    "text_str = '''\n",
    "If Cristiano Ronaldo didn’t exist, would Lionel Messi have to invent him?\n",
    "\n",
    "The question of how much these two other-worldly players inspire each other is an interesting one, \n",
    "and it’s tempting to imagine Messi sitting at home on Tuesday night, watching Ronaldo destroying Atletico,\n",
    "angrily glaring at the TV screen and growling: “Right, I’ll show him!”\n",
    "\n",
    "As appealing as that picture might be, however, it is probably a false one — from Messi’s perspective, at least.\n",
    "\n",
    "He might show it in a different way, but Messi is just as competitive as Ronaldo. Rather than goals and personal glory,\n",
    "however, the Argentine’s personal drug is trophies.\n",
    "\n",
    "Ronaldo, it can be said, never looks happy on the field of play unless he’s just scored a goal — \n",
    "and even then he’s not happy for long, because he just wants to score another one. \n",
    "And that relentless obsession with finding the back of the net has undoubtedly played a major \n",
    "role in his stunning career achievements.\n",
    "\n",
    "Messi, though, is a different animal, shown by the generosity with which he sets up team-mates \n",
    "even if he has a chance to shoot, regularly hands over penalty-taking duties to others and \n",
    "invariably celebrates a goal by turning straight to the player who passed him the ball with an appreciative smile.\n",
    "\n",
    "Rather than being a better player than Ronaldo, Messi’s main motivations — according to \n",
    "the people who are close to him — are being the best possible version of Lionel Messi, \n",
    "and winning as many trophies as possible.\n",
    "\n",
    "That theory was supported by Leicester boss Brendan Rodgers when I interviewed him for \n",
    "a book I recently wrote about Messi.\n",
    "\n",
    "Do Messi and Ronaldo inspire each other? “Maybe subconsciously in some way they’ve \n",
    "driven each other on,” said Rodgers. “But I think both those players inherently have \n",
    "that hunger to be the best players they can be. With the very elite performers, that drive comes from within.”\n",
    "\n",
    "Messi and Ronaldo ferociously competing with each other for everyone else’s acclaim \n",
    "is a nice story for fans to debate and the media to spread, but it’s probably not particularly true.\n",
    "'''"
   ]
  },
  {
   "cell_type": "code",
   "execution_count": 29,
   "id": "satellite-helmet",
   "metadata": {},
   "outputs": [],
   "source": [
    "#1. Create the word frequency table\n",
    "\n",
    "def _create_frequency_table(text_string) -> dict:\n",
    "    \"\"\"\n",
    "    we create a dictionary for the word frequency table.\n",
    "    For this, we should only use the words that are not part of the stopWords array.\n",
    "    Removing stop words and making frequency table\n",
    "    Stemmer - an algorithm to bring words to its root word.\n",
    "    :rtype: dict\n",
    "    \"\"\"\n",
    "    stopWords = set(stopwords.words(\"english\"))\n",
    "    words = word_tokenize(text_string)\n",
    "    ps = PorterStemmer()\n",
    "\n",
    "    freqTable = dict()\n",
    "    for word in words:\n",
    "        word = ps.stem(word)\n",
    "        if word in stopWords:\n",
    "            continue\n",
    "        if word in freqTable:\n",
    "            freqTable[word] += 1\n",
    "        else:\n",
    "            freqTable[word] = 1\n",
    "\n",
    "    return freqTable"
   ]
  },
  {
   "cell_type": "code",
   "execution_count": 30,
   "id": "decimal-accordance",
   "metadata": {},
   "outputs": [],
   "source": [
    "#2. Score the sentences: Term frequency\n",
    "\n",
    "def _score_sentences(sentences, freqTable) -> dict:\n",
    "    \"\"\"\n",
    "    score a sentence by its words\n",
    "    Basic algorithm: adding the frequency of every non-stop word in a sentence divided by total no of words in a sentence.\n",
    "    :rtype: dict\n",
    "    \"\"\"\n",
    "    sentenceValue = dict()\n",
    "\n",
    "    for sentence in sentences:\n",
    "        word_count_in_sentence = (len(word_tokenize(sentence)))\n",
    "        word_count_in_sentence_except_stop_words = 0\n",
    "        for wordValue in freqTable:\n",
    "            if wordValue in sentence.lower():\n",
    "                word_count_in_sentence_except_stop_words += 1\n",
    "                if sentence[:10] in sentenceValue:\n",
    "                    sentenceValue[sentence[:10]] += freqTable[wordValue]\n",
    "                else:\n",
    "                    sentenceValue[sentence[:10]] = freqTable[wordValue]\n",
    "\n",
    "        if sentence[:10] in sentenceValue:\n",
    "            sentenceValue[sentence[:10]] = sentenceValue[sentence[:10]] / word_count_in_sentence_except_stop_words\n",
    "    return sentenceValue"
   ]
  },
  {
   "cell_type": "code",
   "execution_count": 31,
   "id": "german-bishop",
   "metadata": {},
   "outputs": [],
   "source": [
    "#3. Find the threshold\n",
    "\n",
    "def _find_average_score(sentenceValue) -> int:\n",
    "    \"\"\"\n",
    "    Find the average score from the sentence value dictionary\n",
    "    :rtype: int\n",
    "    \"\"\"\n",
    "    sumValues = 0\n",
    "    for entry in sentenceValue:\n",
    "        sumValues += sentenceValue[entry]\n",
    "\n",
    "    # Average value of a sentence from original text\n",
    "    average = (sumValues / len(sentenceValue))\n",
    "\n",
    "    return average"
   ]
  },
  {
   "cell_type": "code",
   "execution_count": 32,
   "id": "imported-netscape",
   "metadata": {},
   "outputs": [],
   "source": [
    "#4. Generate the summary\n",
    "\n",
    "def _generate_summary(sentences, sentenceValue, threshold):\n",
    "    sentence_count = 0\n",
    "    summary = ''\n",
    "\n",
    "    for sentence in sentences:\n",
    "        if sentence[:10] in sentenceValue and sentenceValue[sentence[:10]] >= (threshold):\n",
    "            summary += \" \" + sentence\n",
    "            sentence_count += 1\n",
    "\n",
    "    return summary"
   ]
  },
  {
   "cell_type": "code",
   "execution_count": 33,
   "id": "broke-mexico",
   "metadata": {},
   "outputs": [],
   "source": [
    "def run_summarization(text):\n",
    "    # 1 Create the word frequency table\n",
    "    freq_table = _create_frequency_table(text)\n",
    "    '''\n",
    "    We already have a sentence tokenizer, so we just need \n",
    "    to run the sent_tokenize() method to create the array of sentences.\n",
    "    '''\n",
    "    # 2 Tokenize the sentences\n",
    "    sentences = sent_tokenize(text)\n",
    "    # 3 Important Algorithm: score the sentences\n",
    "    sentence_scores = _score_sentences(sentences, freq_table)\n",
    "    # 4 Find the threshold\n",
    "    threshold = _find_average_score(sentence_scores)\n",
    "    # 5 Important Algorithm: Generate the summary\n",
    "    summary = _generate_summary(sentences, sentence_scores, 1.3 * threshold)\n",
    "\n",
    "    return summary"
   ]
  },
  {
   "cell_type": "code",
   "execution_count": 34,
   "id": "august-friend",
   "metadata": {},
   "outputs": [
    {
     "name": "stdout",
     "output_type": "stream",
     "text": [
      "Summarized text: \n",
      "\n",
      "  \n",
      "If Cristiano Ronaldo didn’t exist, would Lionel Messi have to invent him? He might show it in a different way, but Messi is just as competitive as Ronaldo. Do Messi and Ronaldo inspire each other?\n"
     ]
    }
   ],
   "source": [
    "result = run_summarization(text_str)\n",
    "print(\"Summarized text: \\n\\n\",result)"
   ]
  },
  {
   "cell_type": "code",
   "execution_count": null,
   "id": "going-colors",
   "metadata": {},
   "outputs": [],
   "source": []
  }
 ],
 "metadata": {
  "kernelspec": {
   "display_name": "Python 3",
   "language": "python",
   "name": "python3"
  },
  "language_info": {
   "codemirror_mode": {
    "name": "ipython",
    "version": 3
   },
   "file_extension": ".py",
   "mimetype": "text/x-python",
   "name": "python",
   "nbconvert_exporter": "python",
   "pygments_lexer": "ipython3",
   "version": "3.8.5"
  }
 },
 "nbformat": 4,
 "nbformat_minor": 5
}
